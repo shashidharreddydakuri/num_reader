{
 "cells": [
  {
   "cell_type": "code",
   "execution_count": 2,
   "metadata": {},
   "outputs": [
    {
     "name": "stdout",
     "output_type": "stream",
     "text": [
      "Epoch 1/3\n",
      "60000/60000 [==============================] - 31s - loss: 0.2641 - acc: 0.9232    \n",
      "Epoch 2/3\n",
      "60000/60000 [==============================] - 17s - loss: 0.1082 - acc: 0.9667    \n",
      "Epoch 3/3\n",
      "60000/60000 [==============================] - 17s - loss: 0.0741 - acc: 0.9767    \n"
     ]
    },
    {
     "data": {
      "text/plain": [
       "<tensorflow.python.keras._impl.keras.callbacks.History at 0x22ef7d0d9b0>"
      ]
     },
     "execution_count": 2,
     "metadata": {},
     "output_type": "execute_result"
    }
   ],
   "source": [
    "import tensorflow as tf\n",
    "mnist = tf.keras.datasets.mnist  # 28*28 images of hand-written digits 0-9\n",
    "(x_train, y_train), (x_test, y_test)= mnist.load_data()\n",
    "x_train = tf.keras.utils.normalize(x_train, axis=1)\n",
    "x_test = tf.keras.utils.normalize(x_test, axis=1)\n",
    "model = tf.keras.models.Sequential()\n",
    "model.add(tf.keras.layers.Flatten(input_shape=(28, 28)))\n",
    "model.add(tf.keras.layers.Dense (128, activation=tf.nn.relu))\n",
    "model.add(tf.keras.layers.Dense (128, activation=tf.nn.relu))\n",
    "model.add(tf.keras.layers.Dense (10, activation=tf.nn.softmax))\n",
    "\n",
    "model.compile(optimizer='adam',\n",
    "              loss='sparse_categorical_crossentropy',\n",
    "              metrics=['accuracy'])\n",
    "model.fit(x_train, y_train, epochs=3)\n"
   ]
  },
  {
   "cell_type": "code",
   "execution_count": 3,
   "metadata": {},
   "outputs": [
    {
     "name": "stdout",
     "output_type": "stream",
     "text": [
      " 9728/10000 [============================>.] - ETA: 0s0.0919932757928\n",
      "0.9716\n"
     ]
    }
   ],
   "source": [
    "val_loss, val_acc = model.evaluate(x_test, y_test)\n",
    "print(val_loss)\n",
    "print(val_acc)"
   ]
  },
  {
   "cell_type": "code",
   "execution_count": 8,
   "metadata": {},
   "outputs": [
    {
     "name": "stdout",
     "output_type": "stream",
     "text": [
      "[[  1.21335020e-07   1.69213266e-07   5.56284658e-06 ...,   9.99910235e-01\n",
      "    3.20334067e-07   1.29329260e-06]\n",
      " [  2.50631009e-11   9.85127117e-05   9.99860406e-01 ...,   1.95467420e-10\n",
      "    8.45108961e-09   4.28234108e-15]\n",
      " [  1.47187549e-07   9.99936700e-01   9.61859405e-06 ...,   2.43171435e-05\n",
      "    1.66789814e-05   8.91868410e-07]\n",
      " ..., \n",
      " [  8.29628561e-08   1.15492263e-07   7.24601037e-08 ...,   1.75115074e-05\n",
      "    1.20184386e-05   1.09792396e-03]\n",
      " [  1.03180878e-06   3.25437185e-07   5.38191047e-09 ...,   5.58745455e-07\n",
      "    1.59587257e-03   1.28579414e-08]\n",
      " [  2.17405614e-06   3.60655257e-08   3.02336921e-05 ...,   1.85398086e-09\n",
      "    3.97364346e-07   2.06074402e-09]]\n"
     ]
    }
   ],
   "source": [
    "model.save('num_reader.model')\n",
    "new_model = tf.keras.models.load_model('num_reader.model')\n",
    "predictions = new_model.predict(x_test)\n",
    "\n",
    "print(predictions)\n",
    "\n"
   ]
  },
  {
   "cell_type": "code",
   "execution_count": 13,
   "metadata": {},
   "outputs": [
    {
     "data": {
      "image/png": "[encoded data removed]",
      "text/plain": [
       "<matplotlib.figure.Figure at 0x22f9a3772b0>"
      ]
     },
     "metadata": {},
     "output_type": "display_data"
    },
    {
     "name": "stdout",
     "output_type": "stream",
     "text": [
      "[[ 0.          0.          0.          0.          0.          0.          0.\n",
      "   0.          0.          0.          0.          0.          0.          0.\n",
      "   0.          0.          0.          0.          0.          0.          0.\n",
      "   0.          0.          0.          0.          0.          0.          0.        ]\n",
      " [ 0.          0.          0.          0.          0.          0.          0.\n",
      "   0.          0.          0.          0.          0.          0.          0.\n",
      "   0.          0.          0.          0.          0.          0.          0.\n",
      "   0.          0.          0.          0.          0.          0.          0.        ]\n",
      " [ 0.          0.          0.          0.          0.          0.          0.\n",
      "   0.          0.          0.          0.          0.          0.          0.\n",
      "   0.          0.          0.          0.          0.          0.          0.\n",
      "   0.          0.          0.          0.          0.          0.          0.        ]\n",
      " [ 0.          0.          0.          0.          0.          0.          0.\n",
      "   0.          0.          0.          0.          0.          0.          0.\n",
      "   0.          0.          0.          0.          0.          0.          0.\n",
      "   0.          0.          0.          0.          0.          0.          0.        ]\n",
      " [ 0.          0.          0.          0.          0.          0.          0.\n",
      "   0.          0.          0.          0.          0.          0.          0.\n",
      "   0.          0.          0.          0.          0.          0.          0.\n",
      "   0.          0.          0.          0.          0.          0.          0.        ]\n",
      " [ 0.          0.          0.          0.          0.          0.          0.\n",
      "   0.          0.          0.          0.          0.          0.00393124\n",
      "   0.02332955  0.02620568  0.02625207  0.17420356  0.17566281  0.28629534\n",
      "   0.05664824  0.51877786  0.71632322  0.77892406  0.89301644  0.          0.\n",
      "   0.          0.        ]\n",
      " [ 0.          0.          0.          0.          0.          0.          0.\n",
      "   0.          0.05780486  0.06524513  0.16128198  0.22713296  0.22277047\n",
      "   0.32790981  0.36833534  0.3689874   0.34978968  0.32678448  0.368094\n",
      "   0.3747499   0.79066747  0.67980478  0.61494005  0.45002403  0.          0.\n",
      "   0.          0.        ]\n",
      " [ 0.          0.          0.          0.          0.          0.          0.\n",
      "   0.12250613  0.45858525  0.45852825  0.43408872  0.37314701  0.33153488\n",
      "   0.32790981  0.36833534  0.3689874   0.34978968  0.32420121  0.15214552\n",
      "   0.17865984  0.25626376  0.1573102   0.12298801  0.          0.          0.\n",
      "   0.          0.        ]\n",
      " [ 0.          0.          0.          0.          0.          0.          0.\n",
      "   0.04500225  0.4219755   0.45852825  0.43408872  0.37314701  0.33153488\n",
      "   0.32790981  0.28826244  0.26543758  0.34149427  0.31128482  0.          0.\n",
      "   0.          0.          0.          0.          0.          0.          0.\n",
      "   0.        ]\n",
      " [ 0.          0.          0.          0.          0.          0.          0.\n",
      "   0.          0.1541463   0.28272888  0.18358693  0.37314701  0.33153488\n",
      "   0.26569767  0.01601458  0.          0.05945042  0.19891229  0.          0.\n",
      "   0.          0.          0.          0.          0.          0.          0.\n",
      "   0.        ]\n",
      " [ 0.          0.          0.          0.          0.          0.          0.\n",
      "   0.          0.          0.0253731   0.00171577  0.22713296  0.33153488\n",
      "   0.11664776  0.          0.          0.          0.          0.          0.\n",
      "   0.          0.          0.          0.          0.          0.          0.\n",
      "   0.        ]\n",
      " [ 0.          0.          0.          0.          0.          0.          0.\n",
      "   0.          0.          0.          0.          0.20500962  0.33153488\n",
      "   0.24625638  0.00291174  0.          0.          0.          0.          0.\n",
      "   0.          0.          0.          0.          0.          0.          0.\n",
      "   0.        ]\n",
      " [ 0.          0.          0.          0.          0.          0.          0.\n",
      "   0.          0.          0.          0.          0.01622378  0.24897876\n",
      "   0.32790981  0.10191096  0.          0.          0.          0.          0.\n",
      "   0.          0.          0.          0.          0.          0.          0.\n",
      "   0.        ]\n",
      " [ 0.          0.          0.          0.          0.          0.          0.\n",
      "   0.          0.          0.          0.          0.          0.04586451\n",
      "   0.31235677  0.32757096  0.23335172  0.14931733  0.00129164  0.          0.\n",
      "   0.          0.          0.          0.          0.          0.          0.\n",
      "   0.        ]\n",
      " [ 0.          0.          0.          0.          0.          0.          0.\n",
      "   0.          0.          0.          0.          0.          0.\n",
      "   0.10498298  0.34940902  0.3689874   0.34978968  0.15370495  0.04089933\n",
      "   0.          0.          0.          0.          0.          0.          0.\n",
      "   0.          0.        ]\n",
      " [ 0.          0.          0.          0.          0.          0.          0.\n",
      "   0.          0.          0.          0.          0.          0.          0.\n",
      "   0.06551419  0.27127137  0.34978968  0.32678448  0.245396    0.05882702\n",
      "   0.          0.          0.          0.          0.          0.          0.\n",
      "   0.        ]\n",
      " [ 0.          0.          0.          0.          0.          0.          0.\n",
      "   0.          0.          0.          0.          0.          0.          0.\n",
      "   0.          0.02333517  0.12857881  0.32549285  0.41390126  0.40743158\n",
      "   0.          0.          0.          0.          0.          0.          0.\n",
      "   0.        ]\n",
      " [ 0.          0.          0.          0.          0.          0.          0.\n",
      "   0.          0.          0.          0.          0.          0.          0.\n",
      "   0.          0.          0.          0.32161793  0.41390126  0.54251585\n",
      "   0.20001074  0.          0.          0.          0.          0.          0.\n",
      "   0.        ]\n",
      " [ 0.          0.          0.          0.          0.          0.          0.\n",
      "   0.          0.          0.          0.          0.          0.          0.\n",
      "   0.06697006  0.18959827  0.25300993  0.32678448  0.41390126  0.45100715\n",
      "   0.00625034  0.          0.          0.          0.          0.          0.\n",
      "   0.        ]\n",
      " [ 0.          0.          0.          0.          0.          0.          0.\n",
      "   0.          0.          0.          0.          0.          0.05110617\n",
      "   0.19182076  0.33339444  0.3689874   0.34978968  0.32678448  0.40899334\n",
      "   0.39653769  0.          0.          0.          0.          0.          0.\n",
      "   0.          0.        ]\n",
      " [ 0.          0.          0.          0.          0.          0.          0.\n",
      "   0.          0.          0.          0.04117838  0.16813739  0.28960162\n",
      "   0.32790981  0.36833534  0.3689874   0.34978968  0.25961929  0.12760592\n",
      "   0.          0.          0.          0.          0.          0.          0.\n",
      "   0.          0.        ]\n",
      " [ 0.          0.          0.          0.          0.          0.          0.\n",
      "   0.          0.04431706  0.11961607  0.36545809  0.37314701  0.33153488\n",
      "   0.32790981  0.36833534  0.28877275  0.111988    0.00258328  0.          0.\n",
      "   0.          0.          0.          0.          0.          0.          0.\n",
      "   0.        ]\n",
      " [ 0.          0.          0.          0.          0.          0.\n",
      "   0.05298497  0.42752138  0.4219755   0.45852825  0.43408872  0.37314701\n",
      "   0.33153488  0.25273681  0.11646967  0.01312603  0.          0.          0.\n",
      "   0.          0.          0.          0.          0.          0.          0.\n",
      "   0.          0.        ]\n",
      " [ 0.          0.          0.          0.          0.37491383  0.56222061\n",
      "   0.66525569  0.63253163  0.48748768  0.45852825  0.43408872  0.359873\n",
      "   0.17428513  0.01425695  0.          0.          0.          0.          0.\n",
      "   0.          0.          0.          0.          0.          0.          0.\n",
      "   0.          0.        ]\n",
      " [ 0.          0.          0.          0.          0.92705966  0.82698729\n",
      "   0.74473314  0.63253163  0.4084877   0.24466922  0.22648107  0.02359823\n",
      "   0.          0.          0.          0.          0.          0.          0.\n",
      "   0.          0.          0.          0.          0.          0.          0.\n",
      "   0.          0.        ]\n",
      " [ 0.          0.          0.          0.          0.          0.          0.\n",
      "   0.          0.          0.          0.          0.          0.          0.\n",
      "   0.          0.          0.          0.          0.          0.          0.\n",
      "   0.          0.          0.          0.          0.          0.          0.        ]\n",
      " [ 0.          0.          0.          0.          0.          0.          0.\n",
      "   0.          0.          0.          0.          0.          0.          0.\n",
      "   0.          0.          0.          0.          0.          0.          0.\n",
      "   0.          0.          0.          0.          0.          0.          0.        ]\n",
      " [ 0.          0.          0.          0.          0.          0.          0.\n",
      "   0.          0.          0.          0.          0.          0.          0.\n",
      "   0.          0.          0.          0.          0.          0.          0.\n",
      "   0.          0.          0.          0.          0.          0.          0.        ]]\n"
     ]
    }
   ],
   "source": [
    "import matplotlib.pyplot as plt\n",
    "\n",
    "plt.imshow(x_train[0], cmap= plt.cm.binary)\n",
    "plt.show()\n",
    "print(x_train[0])\n"
   ]
  },
  {
   "cell_type": "code",
   "execution_count": 9,
   "metadata": {},
   "outputs": [
    {
     "name": "stdout",
     "output_type": "stream",
     "text": [
      "7\n"
     ]
    }
   ],
   "source": [
    "import numpy as np\n",
    "\n",
    "print(np.argmax(predictions[0]))"
   ]
  },
  {
   "cell_type": "code",
   "execution_count": 12,
   "metadata": {},
   "outputs": [
    {
     "data": {
      "image/png": "[encoded data removed]",
      "text/plain": [
       "<matplotlib.figure.Figure at 0x22f9604cc18>"
      ]
     },
     "metadata": {},
     "output_type": "display_data"
    }
   ],
   "source": [
    "plt.imshow(x_test[0],cmap=plt.cm.binary)\n",
    "plt.show()"
   ]
  }
 ],
 "metadata": {
  "kernelspec": {
   "display_name": "Python 3",
   "language": "python",
   "name": "python3"
  },
  "language_info": {
   "codemirror_mode": {
    "name": "ipython",
    "version": 3
   },
   "file_extension": ".py",
   "mimetype": "text/x-python",
   "name": "python",
   "nbconvert_exporter": "python",
   "pygments_lexer": "ipython3",
   "version": "3.6.3"
  }
 },
 "nbformat": 4,
 "nbformat_minor": 2
}
